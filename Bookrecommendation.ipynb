{
  "nbformat": 4,
  "nbformat_minor": 0,
  "metadata": {
    "colab": {
      "provenance": [],
      "include_colab_link": true
    },
    "kernelspec": {
      "name": "python3",
      "display_name": "Python 3"
    },
    "language_info": {
      "name": "python"
    }
  },
  "cells": [
    {
      "cell_type": "markdown",
      "metadata": {
        "id": "view-in-github",
        "colab_type": "text"
      },
      "source": [
        "<a href=\"https://colab.research.google.com/github/namrathareddy-17/Predictive-Analysis-/blob/book_recomdation/Bookrecommendation.ipynb\" target=\"_parent\"><img src=\"https://colab.research.google.com/assets/colab-badge.svg\" alt=\"Open In Colab\"/></a>"
      ]
    },
    {
      "cell_type": "code",
      "execution_count": null,
      "metadata": {
        "colab": {
          "base_uri": "https://localhost:8080/"
        },
        "id": "Z0ItlnykOux-",
        "outputId": "9c722c34-8220-44f4-e9d1-6013d7790d9f"
      },
      "outputs": [
        {
          "output_type": "stream",
          "name": "stdout",
          "text": [
            "Recommendations for User 1:\n",
            "   book_id   title    genre reading_mode\n",
            "2      103  Book C  Fantasy        ebook\n",
            "\n",
            "Recommendations for User 2:\n",
            "Empty DataFrame\n",
            "Columns: [book_id, title, genre, reading_mode]\n",
            "Index: []\n"
          ]
        }
      ],
      "source": [
        "import pandas as pd\n",
        "reading_history = pd.DataFrame({\n",
        "    'user_id': [1, 1, 2, 2, 3, 3, 4],\n",
        "    'book_id': [101, 102, 101, 103, 104, 105, 102]\n",
        "})\n",
        "\n",
        "books = pd.DataFrame({\n",
        "    'book_id': [101, 102, 103, 104, 105, 106],\n",
        "    'title': ['Book A', 'Book B', 'Book C', 'Book D', 'Book E', 'Book F'],\n",
        "    'genre': ['Fantasy', 'Sci-Fi', 'Fantasy', 'Mystery', 'Sci-Fi', 'Fantasy'],\n",
        "    'reading_mode': ['ebook', 'audiobook', 'ebook', 'physical', 'audiobook', 'ebook']\n",
        "})\n",
        "\n",
        "user_preferences = {\n",
        "    1: {'genre': ['Fantasy', 'Sci-Fi'], 'reading_mode': ['ebook', 'audiobook']},\n",
        "    2: {'genre': ['Fantasy'], 'reading_mode': ['ebook']},\n",
        "    3: {'genre': ['Sci-Fi'], 'reading_mode': ['audiobook']},\n",
        "    4: {'genre': ['Sci-Fi'], 'reading_mode': ['audiobook']}\n",
        "}\n",
        "\n",
        "def recommend_books_simple(user_id):\n",
        "    user_books = set(reading_history[reading_history['user_id'] == user_id]['book_id'])\n",
        "    similar_users = reading_history[\n",
        "        (reading_history['book_id'].isin(user_books)) & (reading_history['user_id'] != user_id)\n",
        "    ]['user_id'].unique()\n",
        "\n",
        "    candidate_books = reading_history[\n",
        "        (reading_history['user_id'].isin(similar_users)) & (~reading_history['book_id'].isin(user_books))\n",
        "    ]['book_id'].unique()\n",
        "\n",
        "\n",
        "    prefs = user_preferences.get(user_id, {})\n",
        "    preferred_genres = prefs.get('genre', [])\n",
        "    preferred_modes = prefs.get('reading_mode', [])\n",
        "\n",
        "    filtered_books = books[\n",
        "        (books['book_id'].isin(candidate_books)) &\n",
        "        (books['genre'].isin(preferred_genres)) &\n",
        "        (books['reading_mode'].isin(preferred_modes))\n",
        "    ]\n",
        "\n",
        "    return filtered_books[['book_id', 'title', 'genre', 'reading_mode']]\n",
        "\n",
        "\n",
        "print(\"Recommendations for User 1:\")\n",
        "print(recommend_books_simple(1))\n",
        "\n",
        "print(\"\\nRecommendations for User 2:\")\n",
        "print(recommend_books_simple(2))\n"
      ]
    }
  ]
}