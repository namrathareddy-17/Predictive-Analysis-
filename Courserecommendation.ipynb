{
  "nbformat": 4,
  "nbformat_minor": 0,
  "metadata": {
    "colab": {
      "provenance": [],
      "include_colab_link": true
    },
    "kernelspec": {
      "name": "python3",
      "display_name": "Python 3"
    },
    "language_info": {
      "name": "python"
    }
  },
  "cells": [
    {
      "cell_type": "markdown",
      "metadata": {
        "id": "view-in-github",
        "colab_type": "text"
      },
      "source": [
        "<a href=\"https://colab.research.google.com/github/namrathareddy-17/Predictive-Analysis-/blob/course_recomdation/Courserecommendation.ipynb\" target=\"_parent\"><img src=\"https://colab.research.google.com/assets/colab-badge.svg\" alt=\"Open In Colab\"/></a>"
      ]
    },
    {
      "cell_type": "code",
      "execution_count": null,
      "metadata": {
        "colab": {
          "base_uri": "https://localhost:8080/"
        },
        "id": "Mf7iS-vIT2DK",
        "outputId": "9d213cd9-9a3d-46d0-e9aa-ad63eea22197"
      },
      "outputs": [
        {
          "output_type": "stream",
          "name": "stdout",
          "text": [
            "Recommendations for Student 1:\n",
            "   course_id             title    focus_area\n",
            "0        104  Machine Learning  data science\n",
            "\n",
            "Recommendations for Student 2:\n",
            "Empty DataFrame\n",
            "Columns: [course_id, title, focus_area]\n",
            "Index: []\n"
          ]
        }
      ],
      "source": [
        "import pandas as pd\n",
        "performance = pd.DataFrame({\n",
        "    'student_id': [1, 1, 2, 2, 3, 3, 4, 4],\n",
        "    'course_id': [101, 102, 101, 103, 102, 104, 101, 105],\n",
        "    'grade': [85, 90, 80, 70, 92, 88, 75, 95]\n",
        "})\n",
        "student_interests = {\n",
        "    1: ['math', 'data science'],\n",
        "    2: ['math', 'statistics'],\n",
        "    3: ['data science', 'machine learning'],\n",
        "    4: ['statistics', 'machine learning']\n",
        "}\n",
        "\n",
        "student_focus_area = {\n",
        "    1: 'data science',\n",
        "    2: 'math',\n",
        "    3: 'data science',\n",
        "    4: 'statistics'\n",
        "}\n",
        "\n",
        "courses = pd.DataFrame({\n",
        "    'course_id': [101, 102, 103, 104, 105, 106],\n",
        "    'title': ['Calculus I', 'Intro to Data Science', 'Linear Algebra', 'Machine Learning', 'Statistics I', 'Deep Learning'],\n",
        "    'focus_area': ['math', 'data science', 'math', 'data science', 'statistics', 'data science']\n",
        "})\n",
        "\n",
        "def recommend_courses_easy(student_id):\n",
        "    taken = performance[performance['student_id'] == student_id]['course_id'].tolist()\n",
        "\n",
        "    interests = student_interests.get(student_id, [])\n",
        "    focus = student_focus_area.get(student_id, None)\n",
        "\n",
        "    similar_students = []\n",
        "    for other_id, other_interests in student_interests.items():\n",
        "        if other_id != student_id and any(interest in other_interests for interest in interests):\n",
        "            similar_students.append(other_id)\n",
        "\n",
        "    candidate_courses = performance[\n",
        "        (performance['student_id'].isin(similar_students)) &\n",
        "        (~performance['course_id'].isin(taken)) &\n",
        "        (performance['grade'] >= 75)\n",
        "    ]\n",
        "\n",
        "    candidate_courses = candidate_courses.merge(courses, on='course_id')\n",
        "    candidate_courses = candidate_courses[candidate_courses['focus_area'] == focus]\n",
        "\n",
        "    course_counts = candidate_courses['course_id'].value_counts()\n",
        "\n",
        "    recommended_courses = courses[courses['course_id'].isin(course_counts.index)]\n",
        "    recommended_courses = recommended_courses.set_index('course_id').loc[course_counts.index]\n",
        "    recommended_courses = recommended_courses.reset_index()\n",
        "\n",
        "    return recommended_courses[['course_id', 'title', 'focus_area']]\n",
        "\n",
        "print(\"Recommendations for Student 1:\")\n",
        "print(recommend_courses_easy(1))\n",
        "\n",
        "print(\"\\nRecommendations for Student 2:\")\n",
        "print(recommend_courses_easy(2))\n"
      ]
    }
  ]
}