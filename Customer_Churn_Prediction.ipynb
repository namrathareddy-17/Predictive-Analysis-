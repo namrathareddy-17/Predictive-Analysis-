{
  "nbformat": 4,
  "nbformat_minor": 0,
  "metadata": {
    "colab": {
      "provenance": [],
      "include_colab_link": true
    },
    "kernelspec": {
      "name": "python3",
      "display_name": "Python 3"
    },
    "language_info": {
      "name": "python"
    }
  },
  "cells": [
    {
      "cell_type": "markdown",
      "metadata": {
        "id": "view-in-github",
        "colab_type": "text"
      },
      "source": [
        "<a href=\"https://colab.research.google.com/github/namrathareddy-17/Predictive-Analysis-/blob/Customer-churn/Customer_Churn_Prediction.ipynb\" target=\"_parent\"><img src=\"https://colab.research.google.com/assets/colab-badge.svg\" alt=\"Open In Colab\"/></a>"
      ]
    },
    {
      "cell_type": "code",
      "execution_count": null,
      "metadata": {
        "colab": {
          "base_uri": "https://localhost:8080/"
        },
        "id": "EiEgfdf4NpFC",
        "outputId": "81a50615-2000-4c6d-93c4-170c905390e5"
      },
      "outputs": [
        {
          "output_type": "stream",
          "name": "stdout",
          "text": [
            "\n",
            " Model accuracy on test data: 0.78\n",
            "\n",
            " New customer prediction: Will stay\n"
          ]
        }
      ],
      "source": [
        "from sklearn.datasets import fetch_openml\n",
        "import pandas as pd\n",
        "from sklearn.model_selection import train_test_split\n",
        "from sklearn.preprocessing import LabelEncoder\n",
        "from sklearn.ensemble import RandomForestClassifier\n",
        "from sklearn.metrics import accuracy_score\n",
        "\n",
        "# load from OpenML\n",
        "data = fetch_openml(data_id=42178, as_frame=True)\n",
        "df = data.frame\n",
        "df['Churn'] = df['Churn'].map({'No': 0, 'Yes': 1})\n",
        "df['TotalCharges'] = pd.to_numeric(df['TotalCharges'], errors='coerce')\n",
        "df = df.dropna()\n",
        "for col in df.select_dtypes(include='object').columns:\n",
        "    df.loc[:, col] = LabelEncoder().fit_transform(df[col])\n",
        "if 'customerID' in df.columns:\n",
        "    df = df.drop(columns=['customerID'])\n",
        "\n",
        "\n",
        "X = df.drop(columns=['Churn'])\n",
        "y = df['Churn']\n",
        "\n",
        "X_train, X_test, y_train, y_test = train_test_split(\n",
        "    X, y, test_size=0.3, random_state=42\n",
        ")\n",
        "\n",
        "\n",
        "model = RandomForestClassifier()\n",
        "model.fit(X_train, y_train)\n",
        "\n",
        "\n",
        "y_pred = model.predict(X_test)\n",
        "\n",
        "print(f\"\\n Model accuracy on test data: {accuracy_score(y_test, y_pred):.2f}\")\n",
        "\n",
        "\n",
        "example_customer = X.iloc[[0]]\n",
        "prediction = model.predict(example_customer)\n",
        "result = \"Will churn\" if prediction[0] == 1 else \"Will stay\"\n",
        "\n",
        "print(f\"\\n New customer prediction: {result}\")\n"
      ]
    },
    {
      "cell_type": "code",
      "source": [],
      "metadata": {
        "id": "-OL77dOwNp86"
      },
      "execution_count": null,
      "outputs": []
    }
  ]
}