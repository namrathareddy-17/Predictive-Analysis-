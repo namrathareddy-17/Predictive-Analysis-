{
  "nbformat": 4,
  "nbformat_minor": 0,
  "metadata": {
    "colab": {
      "provenance": [],
      "include_colab_link": true
    },
    "kernelspec": {
      "name": "python3",
      "display_name": "Python 3"
    },
    "language_info": {
      "name": "python"
    }
  },
  "cells": [
    {
      "cell_type": "markdown",
      "metadata": {
        "id": "view-in-github",
        "colab_type": "text"
      },
      "source": [
        "<a href=\"https://colab.research.google.com/github/namrathareddy-17/Predictive-Analysis-/blob/Loan-approaval/Loan_Approval.ipynb\" target=\"_parent\"><img src=\"https://colab.research.google.com/assets/colab-badge.svg\" alt=\"Open In Colab\"/></a>"
      ]
    },
    {
      "cell_type": "code",
      "execution_count": null,
      "metadata": {
        "colab": {
          "base_uri": "https://localhost:8080/"
        },
        "id": "0VjaVrSFKkvx",
        "outputId": "b2e90731-c435-4f9a-fb9c-f57cab10819b"
      },
      "outputs": [
        {
          "output_type": "stream",
          "name": "stdout",
          "text": [
            "  checking_status  duration                  credit_history  \\\n",
            "0              <0         6  critical/other existing credit   \n",
            "1        0<=X<200        48                   existing paid   \n",
            "2     no checking        12  critical/other existing credit   \n",
            "3              <0        42                   existing paid   \n",
            "4              <0        24              delayed previously   \n",
            "\n",
            "               purpose  credit_amount    savings_status employment  \\\n",
            "0             radio/tv           1169  no known savings        >=7   \n",
            "1             radio/tv           5951              <100     1<=X<4   \n",
            "2            education           2096              <100     4<=X<7   \n",
            "3  furniture/equipment           7882              <100     4<=X<7   \n",
            "4              new car           4870              <100     1<=X<4   \n",
            "\n",
            "   installment_commitment     personal_status other_parties  ...  \\\n",
            "0                       4         male single          none  ...   \n",
            "1                       2  female div/dep/mar          none  ...   \n",
            "2                       2         male single          none  ...   \n",
            "3                       2         male single     guarantor  ...   \n",
            "4                       3         male single          none  ...   \n",
            "\n",
            "   property_magnitude age  other_payment_plans   housing existing_credits  \\\n",
            "0         real estate  67                 none       own                2   \n",
            "1         real estate  22                 none       own                1   \n",
            "2         real estate  49                 none       own                1   \n",
            "3      life insurance  45                 none  for free                1   \n",
            "4   no known property  53                 none  for free                2   \n",
            "\n",
            "                  job num_dependents  own_telephone foreign_worker class  \n",
            "0             skilled              1            yes            yes  good  \n",
            "1             skilled              1           none            yes   bad  \n",
            "2  unskilled resident              2           none            yes  good  \n",
            "3             skilled              2           none            yes  good  \n",
            "4             skilled              2           none            yes   bad  \n",
            "\n",
            "[5 rows x 21 columns]\n",
            "Accuracy: 0.6566666666666666\n",
            "New applicant loan prediction: Approved\n"
          ]
        },
        {
          "output_type": "stream",
          "name": "stderr",
          "text": [
            "/usr/local/lib/python3.11/dist-packages/sklearn/utils/validation.py:2739: UserWarning: X does not have valid feature names, but RandomForestClassifier was fitted with feature names\n",
            "  warnings.warn(\n"
          ]
        }
      ],
      "source": [
        "from sklearn.datasets import fetch_openml\n",
        "import pandas as pd\n",
        "from sklearn.model_selection import train_test_split\n",
        "from sklearn.ensemble import RandomForestClassifier\n",
        "from sklearn.metrics import accuracy_score\n",
        "\n",
        "# Load German Credit Data from OpenML\n",
        "credit_data = fetch_openml('credit-g', version=1, as_frame=True)\n",
        "df = credit_data.frame\n",
        "\n",
        "print(df.head())\n",
        "\n",
        "# Target is 'class' (good/bad)\n",
        "# Map 'good' to 1 and 'bad' to 0\n",
        "df['class'] = df['class'].map({'good': 1, 'bad': 0})\n",
        "\n",
        "# Select some numeric features\n",
        "X = df[['duration', 'credit_amount', 'age']]\n",
        "y = df['class']\n",
        "\n",
        "# Train/test split\n",
        "X_train, X_test, y_train, y_test = train_test_split(\n",
        "    X, y, test_size=0.3, random_state=42\n",
        ")\n",
        "\n",
        "# Model\n",
        "model = RandomForestClassifier()\n",
        "model.fit(X_train, y_train)\n",
        "\n",
        "# Predict\n",
        "y_pred = model.predict(X_test)\n",
        "\n",
        "print(\"Accuracy:\", accuracy_score(y_test, y_pred))\n",
        "\n",
        "# Predict on a new applicant\n",
        "# for example: duration=24 months, credit_amount=5000, age=35\n",
        "new_applicant = [[24, 5000, 35]]\n",
        "prediction = model.predict(new_applicant)\n",
        "result = \"Approved\" if prediction[0] == 1 else \"Rejected\"\n",
        "print(f\"New applicant loan prediction: {result}\")\n"
      ]
    }
  ]
}