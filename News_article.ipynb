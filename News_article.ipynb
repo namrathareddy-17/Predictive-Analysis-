{
  "nbformat": 4,
  "nbformat_minor": 0,
  "metadata": {
    "colab": {
      "provenance": [],
      "include_colab_link": true
    },
    "kernelspec": {
      "name": "python3",
      "display_name": "Python 3"
    },
    "language_info": {
      "name": "python"
    }
  },
  "cells": [
    {
      "cell_type": "markdown",
      "metadata": {
        "id": "view-in-github",
        "colab_type": "text"
      },
      "source": [
        "<a href=\"https://colab.research.google.com/github/namrathareddy-17/Predictive-Analysis-/blob/news_article/News_article.ipynb\" target=\"_parent\"><img src=\"https://colab.research.google.com/assets/colab-badge.svg\" alt=\"Open In Colab\"/></a>"
      ]
    },
    {
      "cell_type": "code",
      "execution_count": null,
      "metadata": {
        "colab": {
          "base_uri": "https://localhost:8080/"
        },
        "id": "FrQJyUC5fc_q",
        "outputId": "5b091bb8-d647-4495-91d0-cf28dea29c5d"
      },
      "outputs": [
        {
          "output_type": "stream",
          "name": "stdout",
          "text": [
            "Recommended Articles Based on Your Interests:\n",
            "\n",
            "1. How AI is Shaping the Future (technology)\n",
            "2. World Cup: Shocking Moments (sports)\n",
            "3. Debates Heat Up Ahead of 2025 Elections (politics)\n"
          ]
        }
      ],
      "source": [
        "user_history = [\n",
        "    {\"title\": \"AI Revolution in Silicon Valley\", \"category\": \"technology\"},\n",
        "    {\"title\": \"India vs Australia Final Match Recap\", \"category\": \"sports\"},\n",
        "    {\"title\": \"Upcoming Elections: What You Need to Know\", \"category\": \"politics\"}\n",
        "]\n",
        "current_interests = [\"politics\", \"sports\", \"technology\"]\n",
        "news_articles = [\n",
        "    {\"title\": \"How AI is Shaping the Future\", \"category\": \"technology\"},\n",
        "    {\"title\": \"World Cup: Shocking Moments\", \"category\": \"sports\"},\n",
        "    {\"title\": \"Debates Heat Up Ahead of 2025 Elections\", \"category\": \"politics\"},\n",
        "    {\"title\": \"Celebrity Weddings of the Year\", \"category\": \"entertainment\"},\n",
        "    {\"title\": \"New Space Discoveries by NASA\", \"category\": \"science\"}\n",
        "]\n",
        "recommended_articles = []\n",
        "\n",
        "for article in news_articles:\n",
        "    if article[\"category\"] in current_interests:\n",
        "        recommended_articles.append(article)\n",
        "print(\"Recommended Articles Based on Your Interests:\\n\")\n",
        "for idx, article in enumerate(recommended_articles, 1):\n",
        "    print(f\"{idx}. {article['title']} ({article['category']})\")\n"
      ]
    }
  ]
}