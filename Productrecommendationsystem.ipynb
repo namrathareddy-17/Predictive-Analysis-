{
  "nbformat": 4,
  "nbformat_minor": 0,
  "metadata": {
    "colab": {
      "provenance": [],
      "include_colab_link": true
    },
    "kernelspec": {
      "name": "python3",
      "display_name": "Python 3"
    },
    "language_info": {
      "name": "python"
    }
  },
  "cells": [
    {
      "cell_type": "markdown",
      "metadata": {
        "id": "view-in-github",
        "colab_type": "text"
      },
      "source": [
        "<a href=\"https://colab.research.google.com/github/namrathareddy-17/Predictive-Analysis-/blob/product_recomandation/Productrecommendationsystem.ipynb\" target=\"_parent\"><img src=\"https://colab.research.google.com/assets/colab-badge.svg\" alt=\"Open In Colab\"/></a>"
      ]
    },
    {
      "cell_type": "code",
      "execution_count": null,
      "metadata": {
        "colab": {
          "base_uri": "https://localhost:8080/"
        },
        "id": "CebnHdXTMhpC",
        "outputId": "51b738d4-f7f1-47ed-c06a-59bca4ef511c"
      },
      "outputs": [
        {
          "output_type": "stream",
          "name": "stdout",
          "text": [
            "Recommendations for User 1:\n",
            "   product_id             name  score\n",
            "2         103  Fitness Tracker      0\n",
            "3         104          Blender      0\n",
            "4         105         Cookbook      0\n",
            "\n",
            "Recommendations for User 2:\n",
            "   product_id          name  score\n",
            "4         105      Cookbook      1\n",
            "1         102  Gaming Mouse      0\n",
            "3         104       Blender      0\n",
            "\n",
            "Recommendations for User 3:\n",
            "   product_id             name  score\n",
            "0         101     Game Console      0\n",
            "1         102     Gaming Mouse      0\n",
            "2         103  Fitness Tracker      0\n",
            "4         105         Cookbook      0\n"
          ]
        }
      ],
      "source": [
        "import pandas as pd\n",
        "shopping_history = pd.DataFrame({\n",
        "    'user_id': [1, 1, 2, 2, 3],\n",
        "    'product_id': [101, 102, 101, 103, 104]\n",
        "})\n",
        "\n",
        "user_interests = {\n",
        "    1: ['gaming', 'electronics'],\n",
        "    2: ['fitness', 'books'],\n",
        "    3: ['kitchen', 'home']\n",
        "}\n",
        "\n",
        "products = pd.DataFrame({\n",
        "    'product_id': [101, 102, 103, 104, 105],\n",
        "    'name': ['Game Console', 'Gaming Mouse', 'Fitness Tracker', 'Blender', 'Cookbook'],\n",
        "    'tags': ['gaming electronics', 'gaming', 'fitness', 'kitchen', 'books food']\n",
        "})\n",
        "def recommend(user_id):\n",
        "\n",
        "    interests = user_interests.get(user_id, [])\n",
        "\n",
        "\n",
        "    bought = shopping_history[shopping_history['user_id'] == user_id]['product_id'].tolist()\n",
        "\n",
        "\n",
        "    not_bought = products[~products['product_id'].isin(bought)].copy()\n",
        "\n",
        "\n",
        "    def score_product(tags):\n",
        "        score = 0\n",
        "        for interest in interests:\n",
        "            if interest in tags:\n",
        "                score += 1\n",
        "        return score\n",
        "\n",
        "    not_bought['score'] = not_bought['tags'].apply(score_product)\n",
        "\n",
        "\n",
        "    recommendations = not_bought.sort_values(by='score', ascending=False)\n",
        "\n",
        "    return recommendations[['product_id', 'name', 'score']]\n",
        "print(\"Recommendations for User 1:\")\n",
        "print(recommend(1))\n",
        "\n",
        "print(\"\\nRecommendations for User 2:\")\n",
        "print(recommend(2))\n",
        "\n",
        "print(\"\\nRecommendations for User 3:\")\n",
        "print(recommend(3))\n"
      ]
    }
  ]
}