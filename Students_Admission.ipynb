{
  "nbformat": 4,
  "nbformat_minor": 0,
  "metadata": {
    "colab": {
      "provenance": [],
      "include_colab_link": true
    },
    "kernelspec": {
      "name": "python3",
      "display_name": "Python 3"
    },
    "language_info": {
      "name": "python"
    }
  },
  "cells": [
    {
      "cell_type": "markdown",
      "metadata": {
        "id": "view-in-github",
        "colab_type": "text"
      },
      "source": [
        "<a href=\"https://colab.research.google.com/github/namrathareddy-17/Predictive-Analysis-/blob/Student-adimssion/Students_Admission.ipynb\" target=\"_parent\"><img src=\"https://colab.research.google.com/assets/colab-badge.svg\" alt=\"Open In Colab\"/></a>"
      ]
    },
    {
      "cell_type": "code",
      "execution_count": null,
      "metadata": {
        "colab": {
          "base_uri": "https://localhost:8080/"
        },
        "id": "-x46MhemH7Jd",
        "outputId": "fac9489a-6a82-42d8-f2b8-f9cee32170cc"
      },
      "outputs": [
        {
          "output_type": "stream",
          "name": "stdout",
          "text": [
            "Model accuracy: 1.0\n",
            "\n",
            "Predictions on test data:\n",
            "Student Alice: Admitted\n",
            "Student Bob: Rejected\n",
            "Student Frank: Rejected\n",
            "\n",
            "New student prediction: Admitted\n"
          ]
        },
        {
          "output_type": "stream",
          "name": "stderr",
          "text": [
            "/usr/local/lib/python3.11/dist-packages/sklearn/utils/validation.py:2739: UserWarning: X does not have valid feature names, but LogisticRegression was fitted with feature names\n",
            "  warnings.warn(\n"
          ]
        }
      ],
      "source": [
        "import pandas as pd\n",
        "from sklearn.model_selection import train_test_split\n",
        "from sklearn.linear_model import LogisticRegression\n",
        "from sklearn.metrics import accuracy_score\n",
        "\n",
        "# Sample student data\n",
        "data = {\n",
        "    'name': ['Alice', 'Bob', 'Charlie', 'David', 'Eva', 'Frank', 'Grace'],\n",
        "    'GPA': [3.8, 3.0, 3.5, 2.8, 3.9, 2.5, 3.2],\n",
        "    'test_score': [85, 60, 78, 55, 90, 50, 70],\n",
        "    'interview_score': [8, 5, 7, 4, 9, 3, 6],\n",
        "    'extracurricular_score': [8, 5, 7, 4, 9, 3, 6],\n",
        "    'admitted': [1, 0, 1, 0, 1, 0, 1]\n",
        "}\n",
        "\n",
        "# Create DataFrame\n",
        "df = pd.DataFrame(data)\n",
        "\n",
        "# Features (excluding name and admitted)\n",
        "X = df[['GPA', 'test_score', 'interview_score', 'extracurricular_score']]\n",
        "y = df['admitted']\n",
        "\n",
        "# Split\n",
        "X_train, X_test, y_train, y_test, names_train, names_test = train_test_split(\n",
        "    X, y, df['name'], test_size=0.3, random_state=42\n",
        ")\n",
        "\n",
        "# Model\n",
        "model = LogisticRegression()\n",
        "model.fit(X_train, y_train)\n",
        "\n",
        "# Predict\n",
        "y_pred = model.predict(X_test)\n",
        "\n",
        "# Accuracy\n",
        "print(\"Model accuracy:\", accuracy_score(y_test, y_pred))\n",
        "\n",
        "# Print results for each student in test set\n",
        "print(\"\\nPredictions on test data:\")\n",
        "for name, pred in zip(names_test, y_pred):\n",
        "    result = \"Admitted\" if pred == 1 else \"Rejected\"\n",
        "    print(f\"Student {name}: {result}\")\n",
        "\n",
        "# Predict a new student\n",
        "new_student = [[3.6, 82, 8, 7]]  # GPA, test_score, interview_score, extracurricular_score\n",
        "prediction = model.predict(new_student)\n",
        "result = \"Admitted\" if prediction[0] == 1 else \"Rejected\"\n",
        "print(f\"\\nNew student prediction: {result}\")\n"
      ]
    },
    {
      "cell_type": "code",
      "source": [],
      "metadata": {
        "id": "A06OlAQKH8As"
      },
      "execution_count": null,
      "outputs": []
    }
  ]
}